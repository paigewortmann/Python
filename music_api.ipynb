{
 "cells": [
  {
   "cell_type": "code",
   "execution_count": 12,
   "metadata": {
    "scrolled": true
   },
   "outputs": [
    {
     "name": "stdout",
     "output_type": "stream",
     "text": [
      "status code:  200\n",
      "\n",
      "gender-id  :  None\n",
      "ipis  :  []\n",
      "type-id  :  e431f5f6-b5d2-343d-8b36-72607fffb74b\n",
      "begin_area  :  {'id': 'a640b45c-c173-49b1-8030-973603e895b5', 'sort-name': 'Aberdeen', 'type': None, 'name': 'Aberdeen', 'type-id': None, 'disambiguation': ''}\n",
      "id  :  5b11f4ce-a62d-471e-81fc-a69a8278c7da\n",
      "country  :  US\n",
      "isnis  :  ['0000000123486830', '0000000123487390']\n",
      "name  :  Nirvana\n",
      "area  :  {'id': '489ce91b-6658-3307-9877-795b68554c98', 'sort-name': 'United States', 'name': 'United States', 'type': None, 'iso-3166-1-codes': ['US'], 'type-id': None, 'disambiguation': ''}\n",
      "gender  :  None\n",
      "end_area  :  None\n",
      "sort-name  :  Nirvana\n",
      "disambiguation  :  90s US grunge band\n",
      "type  :  Group\n",
      "life-span  :  {'ended': True, 'begin': '1988-01', 'end': '1994-04-05'}\n",
      "end-area  :  None\n",
      "begin-area  :  {'id': 'a640b45c-c173-49b1-8030-973603e895b5', 'sort-name': 'Aberdeen', 'type': None, 'name': 'Aberdeen', 'type-id': None, 'disambiguation': ''}\n",
      "\n",
      "{'gender-id': None, 'ipis': [], 'type-id': 'e431f5f6-b5d2-343d-8b36-72607fffb74b', 'begin_area': {'id': 'a640b45c-c173-49b1-8030-973603e895b5', 'sort-name': 'Aberdeen', 'type': None, 'name': 'Aberdeen', 'type-id': None, 'disambiguation': ''}, 'id': '5b11f4ce-a62d-471e-81fc-a69a8278c7da', 'country': 'US', 'isnis': ['0000000123486830', '0000000123487390'], 'name': 'Nirvana', 'area': {'id': '489ce91b-6658-3307-9877-795b68554c98', 'sort-name': 'United States', 'name': 'United States', 'type': None, 'iso-3166-1-codes': ['US'], 'type-id': None, 'disambiguation': ''}, 'gender': None, 'end_area': None, 'sort-name': 'Nirvana', 'disambiguation': '90s US grunge band', 'type': 'Group', 'life-span': {'ended': True, 'begin': '1988-01', 'end': '1994-04-05'}, 'end-area': None, 'begin-area': {'id': 'a640b45c-c173-49b1-8030-973603e895b5', 'sort-name': 'Aberdeen', 'type': None, 'name': 'Aberdeen', 'type-id': None, 'disambiguation': ''}}\n"
     ]
    }
   ],
   "source": [
    "import requests\n",
    "import json\n",
    "\n",
    "API_ENDPOINT = 'https://musicbrainz.org/ws/2/'\n",
    "response = requests.get('http://musicbrainz.org/ws/2/artist/5b11f4ce-a62d-471e-81fc-a69a8278c7da?fmt=json')\n",
    "\n",
    "print('status code: ', response.status_code)\n",
    "print()\n",
    "\n",
    "payload_objects = json.loads(response.text)\n",
    "\n",
    "music = payload_objects\n",
    "\n",
    "for key, value in payload_objects.items():\n",
    "    print(key, ' : ', value)\n",
    "\n",
    "print()\n",
    "print(music)"
   ]
  },
  {
   "cell_type": "code",
   "execution_count": null,
   "metadata": {},
   "outputs": [],
   "source": [
    "# genre + ___\n",
    "\n",
    "'https://musicbrainz.org/ws/2/release-group/3bd76d40-7f0e-36b7-9348-91a33afee20e?inc=genres+user-genres&fmt=json'"
   ]
  },
  {
   "cell_type": "code",
   "execution_count": 26,
   "metadata": {},
   "outputs": [
    {
     "name": "stdout",
     "output_type": "stream",
     "text": [
      "gender-id  :  None\n",
      "ipis  :  []\n",
      "type-id  :  e431f5f6-b5d2-343d-8b36-72607fffb74b\n",
      "begin_area  :  {'id': 'a640b45c-c173-49b1-8030-973603e895b5', 'sort-name': 'Aberdeen', 'type': None, 'name': 'Aberdeen', 'type-id': None, 'disambiguation': ''}\n",
      "id  :  5b11f4ce-a62d-471e-81fc-a69a8278c7da\n",
      "country  :  US\n",
      "isnis  :  ['0000000123486830', '0000000123487390']\n",
      "name  :  Nirvana\n",
      "area  :  {'id': '489ce91b-6658-3307-9877-795b68554c98', 'sort-name': 'United States', 'name': 'United States', 'type': None, 'iso-3166-1-codes': ['US'], 'type-id': None, 'disambiguation': ''}\n",
      "gender  :  None\n",
      "end_area  :  None\n",
      "sort-name  :  Nirvana\n",
      "disambiguation  :  90s US grunge band\n",
      "type  :  Group\n",
      "life-span  :  {'ended': True, 'begin': '1988-01', 'end': '1994-04-05'}\n",
      "end-area  :  None\n",
      "begin-area  :  {'id': 'a640b45c-c173-49b1-8030-973603e895b5', 'sort-name': 'Aberdeen', 'type': None, 'name': 'Aberdeen', 'type-id': None, 'disambiguation': ''}\n",
      "{'gender-id': None, 'ipis': [], 'type-id': 'e431f5f6-b5d2-343d-8b36-72607fffb74b', 'begin_area': {'id': 'a640b45c-c173-49b1-8030-973603e895b5', 'sort-name': 'Aberdeen', 'type': None, 'name': 'Aberdeen', 'type-id': None, 'disambiguation': ''}, 'id': '5b11f4ce-a62d-471e-81fc-a69a8278c7da', 'country': 'US', 'isnis': ['0000000123486830', '0000000123487390'], 'name': 'Nirvana', 'area': {'id': '489ce91b-6658-3307-9877-795b68554c98', 'sort-name': 'United States', 'name': 'United States', 'type': None, 'iso-3166-1-codes': ['US'], 'type-id': None, 'disambiguation': ''}, 'gender': None, 'end_area': None, 'sort-name': 'Nirvana', 'disambiguation': '90s US grunge band', 'type': 'Group', 'life-span': {'ended': True, 'begin': '1988-01', 'end': '1994-04-05'}, 'end-area': None, 'begin-area': {'id': 'a640b45c-c173-49b1-8030-973603e895b5', 'sort-name': 'Aberdeen', 'type': None, 'name': 'Aberdeen', 'type-id': None, 'disambiguation': ''}}\n"
     ]
    }
   ],
   "source": [
    "response_release = requests.get('http://musicbrainz.org/ws/2/label/8049edc0-0bf7-319c-a9b3-ae9922fc0160?fmt=json')\n",
    "\n",
    "payload_objects_release = json.loads(response.text)\n",
    "\n",
    "for key, value in payload_objects_release.items():\n",
    "    print(key, ' : ', value)\n",
    "    \n",
    "print(payload_objects_release)"
   ]
  },
  {
   "cell_type": "code",
   "execution_count": 1,
   "metadata": {},
   "outputs": [
    {
     "ename": "NameError",
     "evalue": "name 'requests' is not defined",
     "output_type": "error",
     "traceback": [
      "\u001b[1;31m---------------------------------------------------------------------------\u001b[0m",
      "\u001b[1;31mNameError\u001b[0m                                 Traceback (most recent call last)",
      "\u001b[1;32m<ipython-input-1-d27223034048>\u001b[0m in \u001b[0;36m<module>\u001b[1;34m\u001b[0m\n\u001b[1;32m----> 1\u001b[1;33m \u001b[0mresponse2\u001b[0m \u001b[1;33m=\u001b[0m \u001b[0mrequests\u001b[0m\u001b[1;33m.\u001b[0m\u001b[0mget\u001b[0m\u001b[1;33m(\u001b[0m\u001b[1;34m'http://musicbrainz.org/ws/2/artist/cc197bad-dc9c-440d-a5b5-d52ba2e14234?fmt=json'\u001b[0m\u001b[1;33m)\u001b[0m\u001b[1;33m\u001b[0m\u001b[1;33m\u001b[0m\u001b[0m\n\u001b[0m\u001b[0;32m      2\u001b[0m \u001b[0mpayload_objects2\u001b[0m \u001b[1;33m=\u001b[0m \u001b[0mjson\u001b[0m\u001b[1;33m.\u001b[0m\u001b[0mloads\u001b[0m\u001b[1;33m(\u001b[0m\u001b[0mresponse2\u001b[0m\u001b[1;33m.\u001b[0m\u001b[0mtext\u001b[0m\u001b[1;33m)\u001b[0m\u001b[1;33m\u001b[0m\u001b[1;33m\u001b[0m\u001b[0m\n\u001b[0;32m      3\u001b[0m \u001b[1;33m\u001b[0m\u001b[0m\n\u001b[0;32m      4\u001b[0m \u001b[1;32mfor\u001b[0m \u001b[0mkey\u001b[0m\u001b[1;33m,\u001b[0m \u001b[0mvalue\u001b[0m \u001b[1;32min\u001b[0m \u001b[0mpayload_objects2\u001b[0m\u001b[1;33m.\u001b[0m\u001b[0mitems\u001b[0m\u001b[1;33m(\u001b[0m\u001b[1;33m)\u001b[0m\u001b[1;33m:\u001b[0m\u001b[1;33m\u001b[0m\u001b[1;33m\u001b[0m\u001b[0m\n\u001b[0;32m      5\u001b[0m     \u001b[0mprint\u001b[0m\u001b[1;33m(\u001b[0m\u001b[0mkey\u001b[0m\u001b[1;33m,\u001b[0m \u001b[1;34m' : '\u001b[0m\u001b[1;33m,\u001b[0m \u001b[0mvalue\u001b[0m\u001b[1;33m)\u001b[0m\u001b[1;33m\u001b[0m\u001b[1;33m\u001b[0m\u001b[0m\n",
      "\u001b[1;31mNameError\u001b[0m: name 'requests' is not defined"
     ]
    }
   ],
   "source": [
    "response2 = requests.get('http://musicbrainz.org/ws/2/artist/cc197bad-dc9c-440d-a5b5-d52ba2e14234?fmt=json')\n",
    "payload_objects2 = json.loads(response2.text)\n",
    "\n",
    "for key, value in payload_objects2.items():\n",
    "    print(key, ' : ', value)\n",
    "\n",
    "print()\n",
    "print(payload_objects2)"
   ]
  },
  {
   "cell_type": "code",
   "execution_count": null,
   "metadata": {},
   "outputs": [],
   "source": []
  }
 ],
 "metadata": {
  "kernelspec": {
   "display_name": "Python 3",
   "language": "python",
   "name": "python3"
  },
  "language_info": {
   "codemirror_mode": {
    "name": "ipython",
    "version": 3
   },
   "file_extension": ".py",
   "mimetype": "text/x-python",
   "name": "python",
   "nbconvert_exporter": "python",
   "pygments_lexer": "ipython3",
   "version": "3.8.3"
  }
 },
 "nbformat": 4,
 "nbformat_minor": 4
}
