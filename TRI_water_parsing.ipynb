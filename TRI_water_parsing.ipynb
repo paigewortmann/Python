{
 "cells": [
  {
   "cell_type": "code",
   "execution_count": 22,
   "metadata": {},
   "outputs": [
    {
     "ename": "SyntaxError",
     "evalue": "invalid syntax (<ipython-input-22-761d4a2e232a>, line 35)",
     "output_type": "error",
     "traceback": [
      "\u001b[1;36m  File \u001b[1;32m\"<ipython-input-22-761d4a2e232a>\"\u001b[1;36m, line \u001b[1;32m35\u001b[0m\n\u001b[1;33m    print('print(trisummary['year'])\u001b[0m\n\u001b[1;37m                             ^\u001b[0m\n\u001b[1;31mSyntaxError\u001b[0m\u001b[1;31m:\u001b[0m invalid syntax\n"
     ]
    }
   ],
   "source": [
    "from csv import DictReader\n",
    "\n",
    "# create data tracking container prior to iterating over our CSV\n",
    "# empty dicts as values for keys will be added to as we iterate\n",
    "trisummary = {'incident_count': 0, 'location': {}, 'year': {}, 'company': {}}\n",
    "    \n",
    "            \n",
    "\n",
    "\n",
    "with open('tri_water.csv') as trifile:\n",
    "    # pass our file object to the Dictreader constructor, creating an iterable reader object\n",
    "    dreader = DictReader(trifile)\n",
    "   # print(dreader.fieldnames)\n",
    "    for record in dreader:\n",
    "        # tabulate our records as we go\n",
    "        trisummary['incident_count'] = trisummary['incident_count'] + 1\n",
    "     #   print('Running record count: ', trisummary['incident_count'])\n",
    "        # check location dict for presence of our current records zip code\n",
    "        if record['ZIP_CODE'] in trisummary['location']:\n",
    "            print('Located new ZIP: ', record['ZIP_CODE'])\n",
    "            # we need to add the zip to our dict, with count 1\n",
    "            trisummary['location'][record['ZIP_CODE']] = 1\n",
    "        else:\n",
    "            # when triggered, our zip code is already in our location dict\n",
    "            trisummary['location'][record['ZIP_CODE']] += 1\n",
    "        if record['REPORTING_YEAR'] not in trisummary['year']:\n",
    "            trisummary['year'][record['REPORTING_YEAR']] = 1\n",
    "        else:\n",
    "            trisummary['year'][record['REPORTING_YEAR']] += 1\n",
    "            \n",
    "        \n",
    "  #      print(record['REPORTING_YEAR'])\n",
    "    #    print(record['CARCINOGEN'])\n",
    " #       print(record['STANDARDIZED_PARENT_COMPANY'])\n",
    "    print('')\n",
    "    # remove routing codes from zip by slicing only the first 5 characters\n",
    "      #  print(record['ZIP_CODE'][0:5])"
   ]
  },
  {
   "cell_type": "code",
   "execution_count": 21,
   "metadata": {},
   "outputs": [
    {
     "name": "stdout",
     "output_type": "stream",
     "text": [
      "{}\n"
     ]
    }
   ],
   "source": [
    "prevkey = 0\n",
    "for y in sorted(trisummary['year']):\n",
    "    print(y, ':', trisummary['year'][y], end= '')\n",
    "    # percent change prev-current / previous\n",
    "    if prevkey != 0:\n",
    "    percentdelta = trisummary\n",
    "    print(', change: ', percentdelta)\n",
    "    # move our cursor to remember the last key\n",
    "    prevkey = y"
   ]
  }
 ],
 "metadata": {
  "kernelspec": {
   "display_name": "Python 3",
   "language": "python",
   "name": "python3"
  },
  "language_info": {
   "codemirror_mode": {
    "name": "ipython",
    "version": 3
   },
   "file_extension": ".py",
   "mimetype": "text/x-python",
   "name": "python",
   "nbconvert_exporter": "python",
   "pygments_lexer": "ipython3",
   "version": "3.8.3"
  }
 },
 "nbformat": 4,
 "nbformat_minor": 4
}
